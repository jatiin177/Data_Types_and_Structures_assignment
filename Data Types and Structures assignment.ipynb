{
 "cells": [
  {
   "cell_type": "code",
   "execution_count": null,
   "id": "80989897-709c-47c7-8519-1bb409ef5b62",
   "metadata": {},
   "outputs": [],
   "source": [
    "########################Data Types and Structures Assignment##############################"
   ]
  },
  {
   "cell_type": "code",
   "execution_count": null,
   "id": "cca61d51-4b98-4b8f-ae9f-ae6cafcb272d",
   "metadata": {},
   "outputs": [],
   "source": [
    "Q1.  What are data structures, and why are they important?\n",
    "\n",
    "Ans- Data structures are specialized ways to organize, manage, and store data in a computer so it can be accessed and modified efficiently. \n",
    "     They provide a foundation for creating efficient algorithms and applications by optimizing resource use, such as memory and processing time.\n",
    "\n",
    "     Types of Data Structure:\n",
    "     \n",
    "\n",
    "    1. Linear Data Structures:\n",
    "        Array: A collection of elements stored in contiguous memory locations.\n",
    "        Linked List: A series of connected nodes where each node contains data and a pointer to the next node.\n",
    "        Stack: A last-in, first-out (LIFO) structure used for operations like backtracking.\n",
    "        Queue: A first-in, first-out (FIFO) structure used in tasks like scheduling.\n",
    "\n",
    "    2. Non-Linear Data Structures:\n",
    "        Trees: Hierarchical structures like binary trees or binary search trees for hierarchical data representation.\n",
    "        Graphs: Nodes connected by edges, used to represent networks.\n",
    "\n",
    "    3. Hash-Based Structures:\n",
    "        Hash Tables: Provide efficient data retrieval using a key-value mapping.\n",
    "\n",
    "    4. Other Structures:\n",
    "        Heap: A specialized tree-based structure used in priority queues.\n",
    "        Trie: Used to store strings, often for searching autocomplete or dictionary-like data.\n",
    "\n",
    "     # Importance of Data Structures:\n",
    "\n",
    "    The use of data structures provides several advantages, including:\n",
    "\n",
    "    Efficiency: Data structures allow for efficient storage and retrieval of data, \n",
    "                which is important in applications where performance is critical.\n",
    "    \n",
    "    Flexibility: Data structures provide a flexible way to organize and store data, allowing for easy modification \n",
    "                 and manipulation.\n",
    "    \n",
    "    Reusability: Data structures can be used in multiple programs and applications, reducing the need \n",
    "                 for redundant code.\n",
    "    \n",
    "    Maintainability: Well-designed data structures can make programs easier to understand, modify,\n",
    "                     and maintain over time.\n"
   ]
  },
  {
   "cell_type": "code",
   "execution_count": null,
   "id": "63e71668-08cd-4593-a145-c0634f6b7964",
   "metadata": {},
   "outputs": [],
   "source": [
    "Q2. Explain the difference between mutable and immutable data types with examples?\n",
    "\n",
    "Ans- 1. Mutable Data Types: These data types allow modifications (add, remove, or update elements) after the object is created.\n",
    "        Behavior: Changes directly affect the original object, without creating a new one.\n",
    "        Example: List, Dictionaries, and Set."
   ]
  },
  {
   "cell_type": "code",
   "execution_count": 17,
   "id": "2613985e-3a75-4bcb-9816-20049b5a99be",
   "metadata": {},
   "outputs": [
    {
     "name": "stdout",
     "output_type": "stream",
     "text": [
      "['Vikram', 'Anshul', 'Amit', 'Suresh', 'Kamal']\n"
     ]
    }
   ],
   "source": [
    "#create a list of student : You can add, remove, or modify elements in a list.\n",
    "name = ['Vikram', 'Anshul', 'Amit', 'Suresh']\n",
    "name.append('Kamal') #add element in the existing list\n",
    "print(name)"
   ]
  },
  {
   "cell_type": "code",
   "execution_count": 23,
   "id": "b60d2326-71ec-4eb6-9ed0-efafa8b56329",
   "metadata": {},
   "outputs": [
    {
     "name": "stdout",
     "output_type": "stream",
     "text": [
      "{'Name': 'Jatin', 'Age': '22', 'Job': 'Data Scientist'}\n"
     ]
    }
   ],
   "source": [
    "#create a dict. of student : You can update key-value pairs.\n",
    "\n",
    "employee = {\"Name\" : \"Jatin\", \"Age\" : \"22\", \"Job\" : \"Data Analyst\"}\n",
    "employee[\"Job\"] = \"Data Scientist\"  # changing the job from data analyst to data scientist\n",
    "print(employee)"
   ]
  },
  {
   "cell_type": "code",
   "execution_count": 25,
   "id": "0f81c3dc-ff23-444e-9ead-60eaa1ca08ad",
   "metadata": {},
   "outputs": [
    {
     "name": "stdout",
     "output_type": "stream",
     "text": [
      "{1, 2, 3, 4}\n"
     ]
    }
   ],
   "source": [
    "#creating a set : You can add , remove or update elements.\n",
    "my_set = {1, 2, 3}\n",
    "my_set.add(4)  # Adds 4 to the set\n",
    "print(my_set)\n"
   ]
  },
  {
   "cell_type": "code",
   "execution_count": null,
   "id": "a9aa282a-6e19-4088-949c-e58546c534c4",
   "metadata": {},
   "outputs": [],
   "source": [
    "2. Immutable Data type: Data types in Python whose values can’t be changed or modified are known as Immutable Data Types.\n",
    "   Once the value or the object of the immutable data type is initialized, its value remains constant throughout its lifetime.\n",
    "   But, if you want to change the original object, a new object will be created with the modified values.\n",
    "   Example: String, Tuple, Float, etc."
   ]
  },
  {
   "cell_type": "code",
   "execution_count": 37,
   "id": "729aa866-ca72-4064-9f46-a02e41363e2d",
   "metadata": {},
   "outputs": [
    {
     "name": "stdout",
     "output_type": "stream",
     "text": [
      "hello\n",
      "hello world\n"
     ]
    }
   ],
   "source": [
    "#Example:\n",
    " #Strings: Modifying a string creates a new string object.\n",
    "\n",
    "my_string = \"hello\"\n",
    "new_string = my_string + \" world\"  # Creates a new string\n",
    "print(my_string) \n",
    "print(new_string) \n",
    "\n"
   ]
  },
  {
   "cell_type": "code",
   "execution_count": 39,
   "id": "a093fac9-6601-4f78-8840-fbea68b1b69f",
   "metadata": {},
   "outputs": [
    {
     "name": "stdout",
     "output_type": "stream",
     "text": [
      "(1, 2, 3)\n"
     ]
    }
   ],
   "source": [
    "#Tuples: Tuples cannot be changed after creation.\n",
    "\n",
    "my_tuple = (1, 2, 3)\n",
    "# my_tuple[0] = 0  # This will raise a TypeError\n",
    "print(my_tuple) "
   ]
  },
  {
   "cell_type": "code",
   "execution_count": 41,
   "id": "70c78ce6-82d7-40e9-8d57-424f457cf838",
   "metadata": {},
   "outputs": [
    {
     "name": "stdout",
     "output_type": "stream",
     "text": [
      "5\n",
      "6\n"
     ]
    }
   ],
   "source": [
    "#Numbers (int, float, etc.): Any arithmetic operation creates a new object.\n",
    "\n",
    "x = 5\n",
    "y = x + 1  # Creates a new integer object\n",
    "print(x)  # Output: 5\n",
    "print(y)"
   ]
  },
  {
   "cell_type": "code",
   "execution_count": null,
   "id": "836a095b-db26-4365-a8a3-764266ad006a",
   "metadata": {},
   "outputs": [],
   "source": [
    "Q3. What are the main differences between lists and tuples in Python?\n",
    "\n",
    "Ans- \n",
    "    The main differences between lists and tuples in Python are related to their mutability, performance, and use cases.\n",
    "\n",
    "1. Mutability:"
   ]
  },
  {
   "cell_type": "code",
   "execution_count": 16,
   "id": "01dd1cfd-a1ca-4115-bbb1-1b1201977821",
   "metadata": {},
   "outputs": [
    {
     "name": "stdout",
     "output_type": "stream",
     "text": [
      "Original list  [1, 2, 4, 4, 3, 3, 3, 6, 5]\n",
      "Example to show mutability  [1, 2, 4, 77, 3, 3, 3, 6, 5]\n"
     ]
    }
   ],
   "source": [
    "  #List: Mutable; you can modify, add, or remove elements after the list is created.\n",
    "List = [1, 2, 4, 4, 3, 3, 3, 6, 5]\n",
    "print(\"Original list \", List)\n",
    "\n",
    "List[3] = 77\n",
    "print(\"Example to show mutability \", List)\n"
   ]
  },
  {
   "cell_type": "code",
   "execution_count": 28,
   "id": "4b56f463-4307-4878-8a14-8f588d0b20ca",
   "metadata": {},
   "outputs": [
    {
     "ename": "TypeError",
     "evalue": "'tuple' object does not support item assignment",
     "output_type": "error",
     "traceback": [
      "\u001b[1;31m---------------------------------------------------------------------------\u001b[0m",
      "\u001b[1;31mTypeError\u001b[0m                                 Traceback (most recent call last)",
      "Cell \u001b[1;32mIn[28], line 4\u001b[0m\n\u001b[0;32m      1\u001b[0m \u001b[38;5;66;03m#Tuple: Immutable; once a tuple is created, you cannot modify its contents.\u001b[39;00m\n\u001b[0;32m      3\u001b[0m tuple1 \u001b[38;5;241m=\u001b[39m (\u001b[38;5;241m0\u001b[39m, \u001b[38;5;241m1\u001b[39m, \u001b[38;5;241m2\u001b[39m, \u001b[38;5;241m3\u001b[39m)\n\u001b[1;32m----> 4\u001b[0m tuple1[\u001b[38;5;241m0\u001b[39m] \u001b[38;5;241m=\u001b[39m \u001b[38;5;241m4\u001b[39m\n\u001b[0;32m      5\u001b[0m \u001b[38;5;28mprint\u001b[39m(tuple1)\n",
      "\u001b[1;31mTypeError\u001b[0m: 'tuple' object does not support item assignment"
     ]
    }
   ],
   "source": [
    "#Tuple: Immutable; once a tuple is created, you cannot modify its contents.\n",
    "\n",
    "tuple1 = (0, 1, 2, 3)\n",
    "tuple1[0] = 4    # Raises TypeError: 'tuple' object does not support item assignment\n",
    "print(tuple1)"
   ]
  },
  {
   "cell_type": "code",
   "execution_count": null,
   "id": "39b27ce1-614d-4802-97a3-c32eb8837c75",
   "metadata": {},
   "outputs": [],
   "source": [
    "2. Performance\n",
    "\n",
    "    List: Slightly slower due to its mutable nature, as it needs additional memory management for resizing.\n",
    "    Tuple: Faster because of its immutability, which allows Python to optimize storage and access.\n",
    "\n",
    "3. Syntax\n",
    "\n",
    "    List: Defined using square brackets [ ].\n",
    "\n",
    "    my_list = [1, 2, 3]\n",
    "\n",
    "    Tuple: Defined using parentheses ( ) or without parentheses in certain cases.\n",
    "\n",
    "    my_tuple = (1, 2, 3)\n",
    "    # Implicit tuple\n",
    "    my_tuple2 = 1, 2, 3\n",
    "\n"
   ]
  },
  {
   "cell_type": "code",
   "execution_count": null,
   "id": "19689562-0b9d-480a-9c48-540177eab03b",
   "metadata": {},
   "outputs": [],
   "source": [
    "4. Use Cases:"
   ]
  },
  {
   "cell_type": "code",
   "execution_count": 36,
   "id": "34f89eac-adbc-4df7-a2ed-0361de7e47c6",
   "metadata": {},
   "outputs": [
    {
     "name": "stdout",
     "output_type": "stream",
     "text": [
      "[1, 2, 3, 4]\n"
     ]
    }
   ],
   "source": [
    " #List: Used when data needs to be modified or when dynamic operations like appending or removing elements are required.\n",
    "my_list = [1, 2, 3]\n",
    "my_list.append(4)  # Adds an element\n",
    "print(my_list)"
   ]
  },
  {
   "cell_type": "code",
   "execution_count": 38,
   "id": "274b524e-6191-4147-86e2-bff3807d7162",
   "metadata": {},
   "outputs": [
    {
     "name": "stdout",
     "output_type": "stream",
     "text": [
      "{(1, 2, 3): 'value'}\n"
     ]
    }
   ],
   "source": [
    "#Tuple: Used when data should remain constant (e.g., configurations, fixed collections) or as dictionary keys.\n",
    "\n",
    "my_tuple = (1, 2, 3)\n",
    "my_dict = {my_tuple: \"value\"}  # Tuples can be used as keys\n",
    "print(my_dict)"
   ]
  },
  {
   "cell_type": "code",
   "execution_count": null,
   "id": "6f5289da-6547-47d2-8102-980cdbc7837a",
   "metadata": {},
   "outputs": [],
   "source": [
    "When to Use:\n",
    "\n",
    "    Use lists for dynamic collections of data where modifications are frequent.\n",
    "    Use tuples for fixed data or collections that should remain constant.\n"
   ]
  },
  {
   "cell_type": "code",
   "execution_count": null,
   "id": "4976c585-e4c9-41d6-a635-38525dbae405",
   "metadata": {},
   "outputs": [],
   "source": [
    "Q4.  Describe how dictionaries store data.\n",
    "\n",
    "Ans- A Python dictionary is a data structure that stores the value in key: value pairs. \n",
    "     Values in a dictionary can be of any data type and can be duplicated, whereas keys can’t be repeated and must be immutable.\n",
    "     \n",
    "\n",
    "   -> Hashing:\n",
    "        Each key in a dictionary is passed through a hashing function to generate a unique hash value (an integer).\n",
    "        This hash value determines where the key-value pair is stored in the dictionary's underlying data structure.\n",
    "\n",
    "    -> Buckets:\n",
    "        The dictionary uses an array-like structure called a hash table or bucket array.\n",
    "        Each slot (or \"bucket\") in this array corresponds to a hash value, and it stores the key-value pair at the computed index.\n",
    "\n",
    "    -> Collisions:\n",
    "        If two keys produce the same hash value (a phenomenon called a hash collision), Python uses a collision resolution strategy.\n",
    "            Typically, it uses open addressing or chaining to store multiple key-value pairs in the same bucket without overwriting.\n",
    "            In Python dictionaries, open addressing is used with probing to find an alternative location in the table for the new key-value pair.\n",
    "\n",
    "    -> Dynamic Resizing:\n",
    "        Dictionaries dynamically resize when their load factor (the ratio of stored elements to the total number of buckets) exceeds a threshold.\n",
    "        Resizing involves creating a larger hash table and rehashing all existing keys to redistribute them.\n",
    "\n",
    "    Key Requirements:\n",
    "        Keys in a dictionary must be hashable (i.e., immutable and implement the __hash__ and __eq__ methods).\n",
    "        Examples of valid keys: strings, numbers, tuples (with immutable elements).\n",
    "        Invalid keys: mutable types like lists or other dictionaries.\n",
    "\n",
    "\n",
    "Example: Here, The data is stored in key:value pairs in dictionaries, which makes it easier to find values. "
   ]
  },
  {
   "cell_type": "code",
   "execution_count": 44,
   "id": "8157533b-2f0e-4fd2-b528-d16270be6061",
   "metadata": {},
   "outputs": [
    {
     "name": "stdout",
     "output_type": "stream",
     "text": [
      "{1: 'a', 2: 'b', 3: 'c'}\n"
     ]
    }
   ],
   "source": [
    "d = {1 :'a',2:'b',3:'c'}\n",
    "print(d)"
   ]
  },
  {
   "cell_type": "code",
   "execution_count": null,
   "id": "b1f9b8c8-3518-46bc-8777-f3cda30faad8",
   "metadata": {},
   "outputs": [],
   "source": [
    "Q5.  Why might you use a set instead of a list in Python?\n",
    "\n",
    "Ans- You might use a set instead of a list in Python when you need unique elements and require fast membership testing. \n",
    "     Sets are optimized for these use cases, while lists are more general-purpose."
   ]
  },
  {
   "cell_type": "code",
   "execution_count": 4,
   "id": "5a820f69-1bb6-4c11-8f4c-6ede7d08f2a9",
   "metadata": {},
   "outputs": [
    {
     "name": "stdout",
     "output_type": "stream",
     "text": [
      "{1, 2, 3}\n"
     ]
    }
   ],
   "source": [
    "##Reasons to Use a Set Instead of a List:\n",
    "\n",
    "    #1. Uniqueness:\n",
    "        #Sets automatically remove duplicate elements.\n",
    "        #If you have a collection where duplicates are not allowed, a set is the ideal choice.\n",
    "\n",
    "my_list = [1, 2, 2, 3]\n",
    "my_set = set(my_list)\n",
    "print(my_set) "
   ]
  },
  {
   "cell_type": "code",
   "execution_count": 8,
   "id": "8d8e5ded-95c8-4754-95c0-27e149008a19",
   "metadata": {},
   "outputs": [
    {
     "name": "stdout",
     "output_type": "stream",
     "text": [
      "True\n",
      "True\n"
     ]
    }
   ],
   "source": [
    "#2. Fast Membership Testing:\n",
    "\n",
    "    #Sets offer O(1) average time complexity for membership tests (in or not in), thanks to their hash table implementation.\n",
    "    #Lists, in contrast, have O(n) complexity because they require linear search.\n",
    "\n",
    "my_set = {1, 2, 3}\n",
    "print(2 in my_set)  # Fast: True\n",
    "\n",
    "my_list = [1, 2, 3]\n",
    "Set Operations:\n",
    "\n",
    "    Sets support mathematical operations like union, intersection, and difference, which are not natively available for lists.\n",
    "\n",
    "    set1 = {1, 2, 3}\n",
    "    set2 = {3, 4, 5}\n",
    "    print(set1 & set2)  # Intersection: {3}\n",
    "    print(set1 | set2)  # Union: {1, 2, 3, 4, 5}\n",
    "    print(set1 - set2)  # Difference: {1, 2}\n",
    "\n",
    "Performance for Large Data:print(2 in my_list)  # Slower for large lists: True\n",
    "\n"
   ]
  },
  {
   "cell_type": "code",
   "execution_count": 12,
   "id": "1d7464f2-89ca-43a2-8ab2-61d098fc73e3",
   "metadata": {},
   "outputs": [
    {
     "name": "stdout",
     "output_type": "stream",
     "text": [
      "{3}\n",
      "{1, 2, 3, 4, 5}\n",
      "{1, 2}\n"
     ]
    }
   ],
   "source": [
    "#3. Set Operations:\n",
    "\n",
    "    #Sets support mathematical operations like union, intersection, and difference, which are not natively available for lists.\n",
    "\n",
    "set1 = {1, 2, 3}\n",
    "set2 = {3, 4, 5}\n",
    "print(set1 & set2)  # Intersection: {3}\n",
    "print(set1 | set2)  # Union: {1, 2, 3, 4, 5}\n",
    "print(set1 - set2)  # Difference: {1, 2}\n"
   ]
  },
  {
   "cell_type": "code",
   "execution_count": null,
   "id": "19792d18-6ce9-42de-ae5b-556859e323b0",
   "metadata": {},
   "outputs": [],
   "source": [
    "4.Performance for Large Data:\n",
    "\n",
    " For large datasets where operations like de-duplication, membership testing, or mathematical set operations are frequent,\n",
    " sets are significantly faster than lists.\n",
    "\n"
   ]
  },
  {
   "cell_type": "code",
   "execution_count": 31,
   "id": "1199f7db-27f9-4952-9163-620986f345c0",
   "metadata": {},
   "outputs": [
    {
     "name": "stdout",
     "output_type": "stream",
     "text": [
      "[1, 2, 3]\n",
      "{1, 2, 3}\n"
     ]
    }
   ],
   "source": [
    "#5. Simplified Code:\n",
    "\n",
    "    #Sets can simplify tasks that require unique elements without manual checks.\n",
    "\n",
    "    # With a list\n",
    "my_list = [1, 2, 3, 2]\n",
    "unique_list = []\n",
    "for item in my_list:\n",
    "    if item not in unique_list:\n",
    "        unique_list.append(item)\n",
    "print(unique_list)  # Output: [1, 2, 3]\n",
    "\n",
    "# With a set\n",
    "my_set = {1, 2, 3, 2}\n",
    "print(my_set)  "
   ]
  },
  {
   "cell_type": "code",
   "execution_count": null,
   "id": "7766fd5e-b32c-4221-9551-d1685c3b6ab5",
   "metadata": {},
   "outputs": [],
   "source": [
    "Q6.  What is a string in Python, and how is it different from a list?\n",
    "\n",
    "Ans- String in Python:\n",
    "     A string is a sequence of characters that can be a combination of letters, numbers, and special characters. \n",
    "     It can be declared in python by using single quotes, double quotes, or even triple quotes. \n",
    "     These quotes are not a part of a string, they define only starting and ending of the string. \n",
    "     Strings are immutable, i.e., they cannot be changed. Each element of the string can be accessed using indexing or slicing operations"
   ]
  },
  {
   "cell_type": "code",
   "execution_count": 35,
   "id": "becb02ab-6100-4b99-bed0-e4b2f53ee5b1",
   "metadata": {},
   "outputs": [
    {
     "name": "stdout",
     "output_type": "stream",
     "text": [
      "This is a string\n",
      "This is a bus\n",
      "This is a lambo\n"
     ]
    }
   ],
   "source": [
    "#example:\n",
    "# Assigning string to a variable\n",
    "a = 'This is a string'\n",
    "print (a)\n",
    "b = \"This is a bus\"\n",
    "print (b)\n",
    "c= '''This is a lambo'''\n",
    "print (c)\n"
   ]
  },
  {
   "cell_type": "code",
   "execution_count": null,
   "id": "e4046b60-031b-4579-b2d7-89a3c9427ee0",
   "metadata": {},
   "outputs": [],
   "source": [
    "Lists in Python:\n",
    "\n",
    "Lists are one of the most powerful data structures in python. \n",
    "Lists are sequenced data types.  In Python, an empty list is created using list() function.\n",
    "They are just like the arrays declared in other languages. \n",
    "But the most powerful thing is that list need not be always homogeneous. \n",
    "A single list can contain strings, integers, as well as other objects.\n",
    "Lists can also be used for implementing stacks and queues. Lists are mutable, i.e., they can be altered once declared. \n",
    "The elements of list can be accessed using indexing and slicing operations."
   ]
  },
  {
   "cell_type": "code",
   "execution_count": 39,
   "id": "6a547639-243a-45ad-a688-08b5c6789242",
   "metadata": {},
   "outputs": [
    {
     "name": "stdout",
     "output_type": "stream",
     "text": [
      "[1, 'a', 'string', 3]\n",
      "[1, 'a', 'string', 3, 6]\n",
      "[1, 'a', 'string', 3]\n",
      "a\n"
     ]
    }
   ],
   "source": [
    "#example:\n",
    "# Declaring a list\n",
    "L = [1, \"a\" , \"string\" , 1+2]\n",
    "print(L)\n",
    "#Adding an element in the list\n",
    "L.append(6) \n",
    "print(L)\n",
    "#Deleting last element from a list\n",
    "L.pop()\n",
    "print (L)\n",
    "#Displaying Second element of the list\n",
    "print (L[1])"
   ]
  },
  {
   "cell_type": "code",
   "execution_count": null,
   "id": "1f4f2eaf-d419-4191-abd9-338c9724ee1b",
   "metadata": {},
   "outputs": [],
   "source": [
    "Q7.  How do tuples ensure data integrity in Python?\n",
    "\n",
    "Ans- \n",
    "    Tuples ensure data integrity in Python by being immutable. Once a tuple is created, its elements cannot be changed, added, or removed. This immutability provides several benefits, particularly for scenarios where data consistency and safety are crucial.\n",
    "\n",
    "  -> Ways Tuples Ensure Data Integrity\n",
    "\n",
    "    1) Immutability:\n",
    "        Tuples cannot be modified after creation. This ensures that the data remains constant throughout its lifecycle, preventing accidental or intentional changes.\n",
    "        Example:\n",
    "\n",
    "        my_tuple = (1, 2, 3)\n",
    "        # my_tuple[0] = 10  # Raises TypeError: 'tuple' object does not support item assignment\n",
    "\n",
    "        This makes tuples ideal for storing data that must remain consistent, such as configurations, database keys, or constants.\n",
    "\n",
    "    2) Hashability:\n",
    "        Tuples are hashable if they contain only hashable elements (e.g., numbers, strings, or other tuples). This allows tuples to be used as keys in dictionaries and elements in sets, ensuring data relationships remain intact.\n",
    "        "
   ]
  },
  {
   "cell_type": "code",
   "execution_count": 47,
   "id": "79a10d18-98ae-4ca0-a3b3-20b6c307aa3b",
   "metadata": {},
   "outputs": [
    {
     "name": "stdout",
     "output_type": "stream",
     "text": [
      "100\n"
     ]
    }
   ],
   "source": [
    "#Example:\n",
    "\n",
    "my_dict = {(\"x\", \"y\"): 100}\n",
    "print(my_dict[(\"x\", \"y\")]) "
   ]
  },
  {
   "cell_type": "code",
   "execution_count": null,
   "id": "3471f777-9157-4161-808f-495d422fcff6",
   "metadata": {},
   "outputs": [],
   "source": [
    "3) Predictability in Shared Contexts:\n",
    "\n",
    "    Tuples can be shared across threads or processes without the risk of their contents being altered, ensuring reliable and predictable behavior in concurrent or multi-threaded programs.\n",
    "\n",
    "4) Consistency in Data Structures:\n",
    "\n",
    "    Tuples can safely represent fixed-size collections, such as coordinate pairs, RGB values, or database records, without risk of size or structure alteration.\n",
    "    Example:\n",
    "\n",
    "    rgb_color = (255, 0, 0)  # Represents red color\n",
    "\n",
    "5) Reduced Side Effects:\n",
    "\n",
    "    When passing a tuple to a function, there is no risk of unintended side effects, as the tuple cannot be modified.\n",
    "   "
   ]
  },
  {
   "cell_type": "code",
   "execution_count": 53,
   "id": "4b5d7fd3-54f1-4373-bb3c-a016d9946561",
   "metadata": {},
   "outputs": [
    {
     "name": "stdout",
     "output_type": "stream",
     "text": [
      "6\n"
     ]
    }
   ],
   "source": [
    "#Example:\n",
    "\n",
    "def process_data(data):\n",
    "# Attempting to modify will raise an error\n",
    "# data[0] = 0  # TypeError\n",
    " return sum(data)\n",
    "my_tuple = (1, 2, 3)\n",
    "print(process_data(my_tuple))  "
   ]
  },
  {
   "cell_type": "code",
   "execution_count": null,
   "id": "7cd2a1d9-ebbc-4d75-acba-f64c962e5041",
   "metadata": {},
   "outputs": [],
   "source": [
    "6) Encapsulation of Immutable Data:\n",
    "   Tuples are an ideal choice when encapsulating data that must not change during the program's execution, enforcing integrity by design.\n",
    "\n"
   ]
  },
  {
   "cell_type": "code",
   "execution_count": null,
   "id": "24a0abaa-bb32-4aef-adcf-65a057d10f4b",
   "metadata": {},
   "outputs": [],
   "source": [
    "Q8.  What is a hash table, and how does it relate to dictionaries in Python?\n",
    "\n",
    "Ans- A hash table is a data structure that stores key-value pairs and uses a hashing function to compute an index for each key, enabling fast retrieval of values. \n",
    "     It provides average ( O(1) ) time complexity for lookups, insertions, and deletions, making it highly efficient for many applications.\n",
    "                                                                                                      \n",
    "     ###How a Hash Table Works\n",
    "\n",
    "     1).Hashing Function:\n",
    "        A hashing function takes a key and converts it into a fixed-size integer (the hash value).\n",
    "        This hash value determines the index (or \"bucket\") where the key-value pair will be stored in the hash table.\n",
    "\n",
    "    2). Buckets:\n",
    "        A bucket is a slot in the hash table where one or more key-value pairs can be stored. Each bucket corresponds to a specific hash value.\n",
    "\n",
    "    3). Collision Handling:\n",
    "        Collisions occur when multiple keys produce the same hash value. Python handles collisions using open addressing, where an alternative index is computed to find an empty slot for storage.\n",
    "\n",
    "    4). Dynamic Resizing:\n",
    "        Hash tables dynamically grow in size when they reach a certain load factor (e.g., 2/3 full). Resizing involves creating a larger table and rehashing all existing keys to redistribute them across the new table.\n",
    "\n",
    "    ####How Dictionaries Use Hash Tables\n",
    "\n",
    "    In Python, dictionaries leverage hash tables for their efficient key-value storage. Here's how the relationship works:\n",
    "\n",
    "    #Key Hashing:\n",
    "        When you add a key-value pair to a dictionary, Python computes the hash of the key using the hash() function.\n",
    "        The hash value determines the bucket index in the hash table.\n",
    "\n",
    "    #Key Uniqueness:\n",
    "        The hash table ensures that each key is unique within the dictionary. If a new key hashes to the same value as an existing key, the collision is resolved, and the new key is stored in an alternate bucket.\n",
    "\n",
    "    #Fast Lookups:\n",
    "        When accessing a value, Python computes the hash of the provided key, identifies the corresponding bucket, and retrieves the value, making lookups very fast.\n",
    "\n",
    "    #Immutable Keys:\n",
    "        Keys in dictionaries must be immutable and hashable (e.g., strings, numbers, tuples). Mutable objects like lists cannot be used as keys because their hash values could change, causing inconsistency.\n",
    "           "
   ]
  },
  {
   "cell_type": "code",
   "execution_count": null,
   "id": "ccd87e27-31df-4fad-9146-99a6455b9cf7",
   "metadata": {},
   "outputs": [],
   "source": [
    "Q9.  Can lists contain different data types in Python?\n",
    "\n",
    "Ans- Yes, lists in Python can contain elements of different data types.\n",
    "     This flexibility is a key feature of Python lists, allowing you to store and manipulate heterogeneous collections of data within the same list.\n",
    "\n",
    "    Examples of Lists with Different Data Types\n",
    "\n",
    "    1) List with Mixed Types:"
   ]
  },
  {
   "cell_type": "code",
   "execution_count": 57,
   "id": "cb26bea2-f734-4f5c-b598-2feb69b4acba",
   "metadata": {},
   "outputs": [
    {
     "name": "stdout",
     "output_type": "stream",
     "text": [
      "[1, 'hello', 3.14, True, [1, 2, 3]]\n"
     ]
    }
   ],
   "source": [
    "mixed_list = [1, \"hello\", 3.14, True, [1, 2, 3]]\n",
    "print(mixed_list)"
   ]
  },
  {
   "cell_type": "code",
   "execution_count": null,
   "id": "a79fa9b8-4316-4e27-8050-80181124cc07",
   "metadata": {},
   "outputs": [],
   "source": [
    "The list above contains:\n",
    "An integer (1),\n",
    "A string (\"hello\"),\n",
    "A floating-point number (3.14),\n",
    "A boolean (True),\n",
    "Another list ([1, 2, 3]).\n"
   ]
  },
  {
   "cell_type": "code",
   "execution_count": null,
   "id": "7d51a310-3c5b-4dc1-83d9-665e77103498",
   "metadata": {},
   "outputs": [],
   "source": [
    "2) List with Objects:\n",
    "   Lists can also store objects, such as custom class instances."
   ]
  },
  {
   "cell_type": "code",
   "execution_count": 64,
   "id": "cf97787f-66cf-4069-bfa5-51ee7fee73d8",
   "metadata": {},
   "outputs": [
    {
     "name": "stdout",
     "output_type": "stream",
     "text": [
      "[<__main__.Person object at 0x0000022B89F79A00>, 42, 'Data']\n"
     ]
    }
   ],
   "source": [
    " class Person:\n",
    "        def __init__(self, name):\n",
    "            self.name = name\n",
    "\n",
    "obj_list = [Person(\"Alice\"), 42, \"Data\"]\n",
    "print(obj_list)"
   ]
  },
  {
   "cell_type": "code",
   "execution_count": null,
   "id": "02abeaf4-7de6-45d9-8fc4-8dc21f374ccc",
   "metadata": {},
   "outputs": [],
   "source": [
    "Q10. Explain why strings are immutable in Python?\n",
    "\n",
    "Ans- Strings in Python are “immutable” which means they can not be changed after they are created. \n",
    "     Some other immutable data types are integers, float, boolean, etc. \n",
    "\n",
    "     The immutability of Python string is very useful as it helps in hashing, performance optimization, safety, ease of use, etc.\n",
    "\n",
    "     The article will explore the differences between mutable and immutable objects, highlighting the advantages of using immutable objects. \n",
    "     It will also compare immutability with mutability, discussing various methods to handle immutability and achieve desired outcomes."
   ]
  },
  {
   "cell_type": "code",
   "execution_count": 66,
   "id": "33a4aefe-325b-4ee3-bc16-43c945af8eb1",
   "metadata": {},
   "outputs": [
    {
     "ename": "TypeError",
     "evalue": "'str' object does not support item assignment",
     "output_type": "error",
     "traceback": [
      "\u001b[1;31m---------------------------------------------------------------------------\u001b[0m",
      "\u001b[1;31mTypeError\u001b[0m                                 Traceback (most recent call last)",
      "Cell \u001b[1;32mIn[66], line 5\u001b[0m\n\u001b[0;32m      2\u001b[0m my_string \u001b[38;5;241m=\u001b[39m \u001b[38;5;124m\"\u001b[39m\u001b[38;5;124mHello, world!\u001b[39m\u001b[38;5;124m\"\u001b[39m\n\u001b[0;32m      4\u001b[0m \u001b[38;5;66;03m# Attempt to modify the string\u001b[39;00m\n\u001b[1;32m----> 5\u001b[0m my_string[\u001b[38;5;241m0\u001b[39m] \u001b[38;5;241m=\u001b[39m \u001b[38;5;124m'\u001b[39m\u001b[38;5;124mh\u001b[39m\u001b[38;5;124m'\u001b[39m\n",
      "\u001b[1;31mTypeError\u001b[0m: 'str' object does not support item assignment"
     ]
    }
   ],
   "source": [
    "#example:\n",
    "my_string = \"Hello, world!\"\n",
    "\n",
    "# Attempt to modify the string\n",
    "my_string[0] = 'h' # Raises TypeError: 'str' object does not support item assignment-----\n",
    "\n"
   ]
  },
  {
   "cell_type": "code",
   "execution_count": null,
   "id": "f3bbb241-7e29-40d6-9682-1f7dcaa383e1",
   "metadata": {},
   "outputs": [],
   "source": [
    "Q11. What advantages do dictionaries offer over lists for certain task?\n",
    "\n",
    "Ans- \n",
    "    Advantages of Dictionaries Over Lists in Python\n",
    "    Dictionaries offer several advantages over lists for certain tasks, primarily due to their ability to efficiently store and access key-value pairs. \n",
    "    Let's explore the key benefits of using dictionaries over lists in specific scenarios.\n",
    "    1. Fast Lookup and Retrieval (O(1) Time Complexity)\n",
    "\n",
    "    Efficient Key-Based Access:\n",
    "        In dictionaries, accessing an element by its key is fast and efficient with an average O(1) time complexity.\n",
    "        In contrast, accessing an item in a list requires O(n) time because it involves searching through the list sequentially.\n"
   ]
  },
  {
   "cell_type": "code",
   "execution_count": 74,
   "id": "c940d7c3-a91a-46f9-b21e-df3814ffdc0a",
   "metadata": {},
   "outputs": [
    {
     "name": "stdout",
     "output_type": "stream",
     "text": [
      "22\n",
      "22\n"
     ]
    }
   ],
   "source": [
    "#Example:\n",
    "\n",
    "# Using a dictionary\n",
    "my_dict = {\"name\": \"Jatin\", \"age\": 22, \"city\": \"Rajasthan\"}\n",
    "print(my_dict[\"age\"])  \n",
    "\n",
    "# Using a list (requires search through index or iteration)\n",
    "my_list = [10, 22, \"Jatin\"]\n",
    "print(my_list[1])"
   ]
  },
  {
   "cell_type": "code",
   "execution_count": null,
   "id": "f4698445-409e-4771-a5ba-2e3638b59869",
   "metadata": {},
   "outputs": [],
   "source": [
    "2. Key-Value Data Storage\n",
    "\n",
    "    Explicit Representation of Data:\n",
    "        Dictionaries store data as key-value pairs, making it easy to map relationships and access data by meaningful keys.\n",
    "        Lists are typically suited for sequential data, but they don’t support meaningful lookups by custom identifiers.\n"
   ]
  },
  {
   "cell_type": "code",
   "execution_count": 72,
   "id": "a80fc13d-7941-406c-9fa1-4f7f1b4b8099",
   "metadata": {},
   "outputs": [
    {
     "name": "stdout",
     "output_type": "stream",
     "text": [
      "Jatin\n"
     ]
    }
   ],
   "source": [
    "#Example:\n",
    "\n",
    "# Dictionary with key-value pairs\n",
    "student = {\"id\": 101, \"name\": \"Jatin\", \"grade\": \"A\"}\n",
    "print(student[\"name\"])"
   ]
  },
  {
   "cell_type": "code",
   "execution_count": null,
   "id": "c75ac0a6-e593-41eb-a4b2-e5bc81f19028",
   "metadata": {},
   "outputs": [],
   "source": [
    "3. Flexible Data Structures\n",
    "\n",
    "    Heterogeneous Data Storage:\n",
    "        In dictionaries, the keys and values can be of any data type (numbers, strings, tuples, lists, or even custom objects).\n",
    "        Lists can also store heterogeneous elements, but they don’t offer the direct key-based associations that dictionaries do.\n"
   ]
  },
  {
   "cell_type": "code",
   "execution_count": 82,
   "id": "d082a287-05c5-461c-8e9f-ea294c7207f5",
   "metadata": {},
   "outputs": [
    {
     "name": "stdout",
     "output_type": "stream",
     "text": [
      "{'name': 'Alice', 'age': 30, 'is_student': False, 'hobbies': ['reading', 'traveling']}\n"
     ]
    }
   ],
   "source": [
    "#Example:\n",
    "\n",
    "# A dictionary with different data types\n",
    "person = {\n",
    "    \"name\": \"Alice\",\n",
    "    \"age\": 30,\n",
    "    \"is_student\": False,\n",
    "    \"hobbies\": [\"reading\", \"traveling\"]\n",
    "     }\n",
    "print(person)\n"
   ]
  },
  {
   "cell_type": "code",
   "execution_count": null,
   "id": "474612e0-9c8b-443a-9a80-938a975508dd",
   "metadata": {},
   "outputs": [],
   "source": [
    "4. No Need for Index-Based Operations\n",
    "\n",
    "    Simpler Data Access:\n",
    "        In a dictionary, you don’t need to know the index to access values—you access them by key.\n",
    "        Lists require you to use an index, which can be cumbersome if you don’t have a fixed order or position for your data.\n",
    "\n"
   ]
  },
  {
   "cell_type": "code",
   "execution_count": 86,
   "id": "d24b91c6-f127-48a5-8b88-574811518b90",
   "metadata": {},
   "outputs": [
    {
     "name": "stdout",
     "output_type": "stream",
     "text": [
      "suv\n"
     ]
    }
   ],
   "source": [
    "#Example:\n",
    "\n",
    "# Dictionary access\n",
    "car_specs = {\"color\": \"Black\", \"model\": \"suv\", \"year\": 2024}\n",
    "print(car_specs[\"model\"])"
   ]
  },
  {
   "cell_type": "code",
   "execution_count": null,
   "id": "6f78f7c6-b9e3-489e-86cb-21ee24a63879",
   "metadata": {},
   "outputs": [],
   "source": [
    "5. Useful in Data Aggregation and Mapping\n",
    "\n",
    "    Ideal for Aggregating Data:\n",
    "    Dictionaries are perfect for aggregating and organizing data where you have a mapping or relationships between items, \n",
    "    such as counting word frequencies, storing user profiles, or representing JSON-like data."
   ]
  },
  {
   "cell_type": "code",
   "execution_count": 88,
   "id": "c70a0856-4875-49a9-bea2-53dabdc755a3",
   "metadata": {},
   "outputs": [
    {
     "name": "stdout",
     "output_type": "stream",
     "text": [
      "{'apple': 3, 'orange': 2, 'banana': 1}\n"
     ]
    }
   ],
   "source": [
    "#Example:\n",
    "\n",
    "# Counting word frequency\n",
    "text = \"apple orange banana apple orange apple\"\n",
    "words = text.split()\n",
    "\n",
    "word_count = {}\n",
    "for word in words:\n",
    "    word_count[word] = word_count.get(word, 0) + 1\n",
    "\n",
    "print(word_count)  "
   ]
  },
  {
   "cell_type": "code",
   "execution_count": null,
   "id": "e038fdb3-22c8-4746-9af5-f721271dd187",
   "metadata": {},
   "outputs": [],
   "source": [
    "6. Better Memory Optimization with Hashing\n",
    "\n",
    "    Efficient Memory Usage:\n",
    "    Python dictionaries use hash tables under the hood, which enable fast access and efficient memory management for key-value storage.\n",
    "    Hashing minimizes memory overhead by allowing quick retrieval and storage.\n"
   ]
  },
  {
   "cell_type": "code",
   "execution_count": null,
   "id": "446b113a-25ed-4ef0-baa9-e36843b8bd14",
   "metadata": {},
   "outputs": [],
   "source": [
    "7. Versatile Built-in Methods\n",
    "\n",
    "    Python dictionaries come with a rich set of methods:\n",
    "        .get() – Safe access to key-value pairs.\n",
    "        .items() – Access key-value pairs simultaneously.\n",
    "        .keys() – Return the keys of the dictionary.\n",
    "        .values() – Return the values of the dictionary.\n",
    "        .update() – Merge dictionaries together.\n"
   ]
  },
  {
   "cell_type": "code",
   "execution_count": 90,
   "id": "6949a314-b503-4f5c-9b74-826a2e90d86e",
   "metadata": {},
   "outputs": [
    {
     "name": "stdout",
     "output_type": "stream",
     "text": [
      "{'name': 'Jatin', 'age': 22, 'location': 'Rajasthan'}\n"
     ]
    }
   ],
   "source": [
    "#Example:\n",
    "\n",
    "# Updating a dictionary\n",
    "person_info = {\"name\": \"Jatin\", \"age\": 22}\n",
    "person_info.update({\"location\": \"Rajasthan\"})\n",
    "print(person_info)  "
   ]
  },
  {
   "cell_type": "code",
   "execution_count": null,
   "id": "0d891545-acbc-493e-8c16-f8a2f51c1029",
   "metadata": {},
   "outputs": [],
   "source": [
    "Q12. Describe a scenario where using a tuple would be preferable over a list?\n",
    "\n",
    "Ans- \n",
    "    Scenario: Representing Immutable Coordinates in a 2D Graphics Application\n",
    "    Imagine you are developing a 2D graphics application where you frequently deal with the representation of positions, points, and coordinates on a canvas or screen. \n",
    "    In such a scenario, you want to ensure that once a point's position is defined, it should never change, as modifying such data could introduce bugs, inconsistencies, or visual artifacts.\n",
    "\n",
    "    Why a Tuple is Preferable Here\n",
    "    In this case, using a tuple instead of a list offers benefits like immutability, memory efficiency, and data integrity. Let's break this down.\n",
    "\n",
    "   ###Use Case###\n",
    "\n",
    "   You want to represent the following 2D points:\n",
    "\n",
    "    Each point contains two numbers: an x-coordinate and a y-coordinate.\n",
    "    Since a point's position should be fixed and immutable, you don't want accidental updates or alterations.\n",
    "\n",
    "  ####Why Tuples Fit This Use Case Better Than Lists#####\n",
    "    1. Immutability Guarantees\n",
    "\n",
    "    In Python, tuples are immutable, meaning once you create a tuple representing a point, its contents (x, y) cannot be changed.\n",
    "    This ensures data integrity and prevents accidental updates to a point's position.\n"
   ]
  },
  {
   "cell_type": "code",
   "execution_count": 92,
   "id": "b9620c35-31c4-4d22-a115-840308493723",
   "metadata": {},
   "outputs": [
    {
     "name": "stdout",
     "output_type": "stream",
     "text": [
      "Tuples cannot be modified!\n"
     ]
    }
   ],
   "source": [
    "#Example:\n",
    "\n",
    "# Using a tuple to represent a 2D point\n",
    "point = (150, 300)\n",
    "\n",
    "# Trying to modify a value will raise an error\n",
    "try:\n",
    "    point[0] = 200  # This will raise a TypeError because tuples are immutable\n",
    "except TypeError:\n",
    "    print(\"Tuples cannot be modified!\")\n"
   ]
  },
  {
   "cell_type": "code",
   "execution_count": null,
   "id": "04ddfa80-86bc-4d93-b0b3-375eba2df744",
   "metadata": {},
   "outputs": [],
   "source": [
    "2. Memory Efficiency\n",
    "\n",
    "    Tuples use less memory than lists because they have a smaller memory overhead.\n",
    "    Since tuples are immutable, Python can optimize their storage by reusing memory for identical tuples through interning.\n",
    "\n"
   ]
  },
  {
   "cell_type": "code",
   "execution_count": 94,
   "id": "b4d0a70b-b92a-49e5-a674-7af0ed32facd",
   "metadata": {},
   "outputs": [
    {
     "name": "stdout",
     "output_type": "stream",
     "text": [
      "2386086591744 2386082555712\n"
     ]
    }
   ],
   "source": [
    "#Example:\n",
    "\n",
    "point1 = (100, 200)\n",
    "point2 = (100, 200)\n",
    "\n",
    "# Python stores point1 and point2 in the same memory address because of interning\n",
    "print(id(point1), id(point2))"
   ]
  },
  {
   "cell_type": "code",
   "execution_count": null,
   "id": "280128c9-f7f7-40d9-a6d7-44292f15196c",
   "metadata": {},
   "outputs": [],
   "source": [
    "3. Fast Lookup and Performance\n",
    "\n",
    "    Due to the smaller memory footprint and efficient memory access patterns, tuples are slightly faster than lists in read-heavy operations.\n",
    "    In a 2D graphics application, you often need quick access to point data, and using tuples speeds up retrieval operations.\n"
   ]
  },
  {
   "cell_type": "code",
   "execution_count": null,
   "id": "a80dd26a-a0fb-4f7b-bec3-f6c0b93877bf",
   "metadata": {},
   "outputs": [],
   "source": [
    "4.Tuple as a Dictionary Key\n",
    "\n",
    "    Since tuples are hashable, you can use them as keys in dictionaries to map points to properties like color, size, or texture.\n"
   ]
  },
  {
   "cell_type": "code",
   "execution_count": 96,
   "id": "8c714e7d-7263-4237-bb16-9245dae37e1a",
   "metadata": {},
   "outputs": [
    {
     "name": "stdout",
     "output_type": "stream",
     "text": [
      "Red\n"
     ]
    }
   ],
   "source": [
    "#Example:\n",
    "\n",
    "# Using tuples as dictionary keys to map point properties\n",
    "point_properties = {\n",
    "    (100, 200): \"Red\",\n",
    "    (150, 300): \"Green\"\n",
    "}\n",
    "\n",
    "print(point_properties[(100, 200)])  \n"
   ]
  },
  {
   "cell_type": "code",
   "execution_count": null,
   "id": "48a73f87-4c5f-49cf-a62a-87b0ae2bc6b9",
   "metadata": {},
   "outputs": [],
   "source": [
    "When Not to Use Tuples\n",
    "\n",
    "    Tuples are immutable, so if you need to modify, append, or reorder elements dynamically, a list would be more appropriate.\n",
    "    For example, if you're collecting dynamic sensor data, updating an ordered sequence, or changing pixel information on the fly, a list would offer more flexibility.\n"
   ]
  },
  {
   "cell_type": "code",
   "execution_count": null,
   "id": "5f5415cb-35fe-4d5f-b7d7-c4121aebcd3b",
   "metadata": {},
   "outputs": [],
   "source": [
    "Q13. How do sets handle duplicate values in Python?\n",
    "\n",
    "Ans- In Python, a set is a built-in data structure that stores unique, unordered elements. \n",
    "     One of the key properties of a set is that it automatically removes duplicate values.\n",
    "     This means that each element in a set appears only once, and any duplicate values are automatically eliminated.\n",
    "\n",
    "     When you add elements to a set:\n",
    "\n",
    "    Python checks if the element already exists in the set.\n",
    "    If it does not exist, Python adds the element to the set.\n",
    "    If it already exists, Python does not add it, ensuring only unique elements remain.\n"
   ]
  },
  {
   "cell_type": "code",
   "execution_count": 98,
   "id": "0fbecdaf-d115-4571-bb4e-90c632924385",
   "metadata": {},
   "outputs": [
    {
     "name": "stdout",
     "output_type": "stream",
     "text": [
      "{1, 2, 3, 4, 5}\n"
     ]
    }
   ],
   "source": [
    "#Example\n",
    "\n",
    "###Let's see how Python sets handle duplicate values step by step.\n",
    "\n",
    "# Creating a set with duplicate values\n",
    "my_set = {1, 2, 3, 2, 4, 4, 5}\n",
    "\n",
    "print(my_set)\n"
   ]
  },
  {
   "cell_type": "code",
   "execution_count": null,
   "id": "15c03d0e-3907-4b5a-a2bb-dc3e50677605",
   "metadata": {},
   "outputs": [],
   "source": [
    "Q14.  How does the “in” keyword work differently for lists and dictionaries?\n",
    "\n",
    "Ans- The in keyword is used in Python to check for the presence of an element. \n",
    "     However, its behavior differs depending on whether you are working with a list or a dictionary.\n",
    "\n",
    "    1. Using in with Lists\n",
    "\n",
    "    In a list, the in keyword checks whether a specific value is present in the list.\n",
    "\n",
    "    The in keyword iterates through the list to see if the specified element exists in it.\n",
    "    Since a list is an ordered collection of items, this search operation requires scanning the entire list in the worst case, \n",
    "    resulting in a time complexity of O(n).\n"
   ]
  },
  {
   "cell_type": "code",
   "execution_count": 100,
   "id": "569e1aa8-760a-4a3b-9d6b-9abb45e22d5a",
   "metadata": {},
   "outputs": [
    {
     "name": "stdout",
     "output_type": "stream",
     "text": [
      "3 is present in the list.\n"
     ]
    }
   ],
   "source": [
    "#Example\n",
    "\n",
    "# Define a list\n",
    "my_list = [1, 2, 3, 4, 5]\n",
    "\n",
    "# Check if a value is present in the list\n",
    "value_to_check = 3\n",
    "\n",
    "if value_to_check in my_list:\n",
    "    print(f\"{value_to_check} is present in the list.\")\n",
    "else:\n",
    "    print(f\"{value_to_check} is not present in the list.\")\n"
   ]
  },
  {
   "cell_type": "code",
   "execution_count": null,
   "id": "63d15019-5313-4971-9478-147b402acf54",
   "metadata": {},
   "outputs": [],
   "source": [
    "2. Using in with Dictionaries\n",
    "   In a dictionary, the in keyword checks for the presence of a key, not a value.\n",
    "   This search is much faster because dictionaries are implemented as hash tables, which provide an average time complexity of O(1)."
   ]
  },
  {
   "cell_type": "code",
   "execution_count": 102,
   "id": "4368c8e8-d308-4de8-ba16-ca6639a3178e",
   "metadata": {},
   "outputs": [
    {
     "name": "stdout",
     "output_type": "stream",
     "text": [
      "Key 'b' is present in the dictionary.\n"
     ]
    }
   ],
   "source": [
    "#Example\n",
    "\n",
    "# Define a dictionary\n",
    "my_dict = {'a': 1, 'b': 2, 'c': 3}\n",
    "\n",
    "# Check if a key is present in the dictionary\n",
    "key_to_check = 'b'\n",
    "\n",
    "if key_to_check in my_dict:\n",
    "    print(f\"Key '{key_to_check}' is present in the dictionary.\")\n",
    "else:\n",
    "    print(f\"Key '{key_to_check}' is not present in the dictionary.\")\n"
   ]
  },
  {
   "cell_type": "code",
   "execution_count": null,
   "id": "ba27cb41-645b-4c5e-8fd1-1bf66668a590",
   "metadata": {},
   "outputs": [],
   "source": [
    "Q15. Can you modify the elements of a tuple? Explain why or why not?\n",
    "\n",
    "Ans- No, you cannot modify the elements of a tuple in Python because tuples are immutable. Once a tuple is created, its contents cannot be changed.\n",
    "\n",
    "   ###Key Characteristics of Tuples###\n",
    "\n",
    "    Immutability:\n",
    "        A tuple is a built-in data structure in Python that is immutable, meaning its elements cannot be altered, added, or removed after creation.\n",
    "        This property ensures data integrity and provides better memory optimization.\n",
    "\n",
    "    Fixed Size:\n",
    "        Tuples have a fixed number of elements.\n",
    "        Once you create a tuple, the number of items it contains remains the same.\n",
    "\n",
    "    Efficient Memory Usage:\n",
    "        Because tuples are immutable, Python stores them in a more memory-efficient way.\n",
    "        This memory optimization makes tuples faster and more space-efficient than lists.\n"
   ]
  },
  {
   "cell_type": "code",
   "execution_count": 104,
   "id": "8bc6851c-d6a8-4695-8182-f6cbaa2eae8a",
   "metadata": {},
   "outputs": [
    {
     "name": "stdout",
     "output_type": "stream",
     "text": [
      "Error: 'tuple' object does not support item assignment\n"
     ]
    }
   ],
   "source": [
    "#example\n",
    "# Create a tuple\n",
    "my_tuple = (1, 2, 3)\n",
    "\n",
    "# Attempt to change an element (raises an error)\n",
    "try:\n",
    "    my_tuple[0] = 100\n",
    "except TypeError as e:\n",
    "    print(f\"Error: {e}\")\n",
    "    "
   ]
  },
  {
   "cell_type": "code",
   "execution_count": null,
   "id": "dd2dbf4a-0036-4dd3-8990-a42143c9f86f",
   "metadata": {},
   "outputs": [],
   "source": [
    "#####How to Modify Data with Tuples:\n",
    "\n",
    "If you really need to change the contents of a tuple, you should:\n",
    "\n",
    "    Convert the Tuple to a List:\n",
    "        You can change the contents by converting the tuple to a list, modifying it, and then converting it back to a tuple.\n"
   ]
  },
  {
   "cell_type": "code",
   "execution_count": 106,
   "id": "78d20258-6c48-4536-95f0-3612a4f9ff39",
   "metadata": {},
   "outputs": [
    {
     "name": "stdout",
     "output_type": "stream",
     "text": [
      "(100, 2, 3)\n"
     ]
    }
   ],
   "source": [
    "# Original tuple\n",
    "my_tuple = (1, 2, 3)\n",
    "\n",
    "# Convert tuple to a list\n",
    "temp_list = list(my_tuple)\n",
    "\n",
    "# Modify the list\n",
    "temp_list[0] = 100\n",
    "\n",
    "# Convert back to a tuple\n",
    "my_tuple = tuple(temp_list)\n",
    "\n",
    "print(my_tuple)"
   ]
  },
  {
   "cell_type": "code",
   "execution_count": null,
   "id": "eb92826a-3d88-483e-844c-f4d32a5160eb",
   "metadata": {},
   "outputs": [],
   "source": [
    "Q16.  What is a nested dictionary, and give an example of its use case?\n",
    "\n",
    "Ans- A nested dictionary is a dictionary where one or more of its values are themselves dictionaries. \n",
    "     In other words, it contains dictionaries within dictionaries. This structure allows you to represent complex data relationships and hierarchical information.\n",
    "\n",
    "     Nested dictionaries are useful for organizing data with multiple levels of detail, such as database records, nested configurations, \n",
    "     or structured data representations."
   ]
  },
  {
   "cell_type": "code",
   "execution_count": null,
   "id": "1e85cefc-6669-4d32-81d7-8120206a2ee9",
   "metadata": {},
   "outputs": [],
   "source": [
    "Structure of a Nested Dictionary\n",
    "General Syntax:\n",
    "\n",
    "nested_dict = {\n",
    "    'key1': {\n",
    "        'sub_key1': 'value1',\n",
    "        'sub_key2': 'value2'\n",
    "    },\n",
    "    'key2': {\n",
    "        'sub_key1': 'value3',\n",
    "        'sub_key2': 'value4'\n",
    "    }\n",
    "}\n"
   ]
  },
  {
   "cell_type": "code",
   "execution_count": 113,
   "id": "d17b78a3-49e7-49dc-b7f6-cd6728aa6976",
   "metadata": {},
   "outputs": [
    {
     "name": "stdout",
     "output_type": "stream",
     "text": [
      "Jatin's Science grade: 85\n",
      "Ram's updated History grade: 95\n",
      "Shyam's Art grade: 92\n"
     ]
    }
   ],
   "source": [
    "# Nested dictionary representing a school directory\n",
    "school_directory = {\n",
    "    'Jatin': {'Math': 90, 'Science': 85, 'History': 88},\n",
    "    'Ram': {'Math': 78, 'Science': 82, 'History': 91},\n",
    "    'Shyam': {'Math': 85, 'Science': 87, 'History': 84}\n",
    "}\n",
    "\n",
    "# Accessing a student's grade in Science\n",
    "print(f\"Jatin's Science grade: {school_directory['Jatin']['Science']}\") \n",
    "\n",
    "# Updating a student's grade in History\n",
    "school_directory['Ram']['History'] = 95\n",
    "print(f\"Ram's updated History grade: {school_directory['Ram']['History']}\")  \n",
    "\n",
    "# Adding a new subject for a student\n",
    "school_directory['Shyam']['Art'] = 92\n",
    "print(f\"Shyam's Art grade: {school_directory['Shyam']['Art']}\")"
   ]
  },
  {
   "cell_type": "code",
   "execution_count": null,
   "id": "9d6e519a-93ac-4a05-ae50-e478ae52c79a",
   "metadata": {},
   "outputs": [],
   "source": [
    "Q17. Describe the time complexity of accessing elements in a dictionary?\n",
    "\n",
    "Ans- In Python, a dictionary is implemented as a hash table. This means that accessing, inserting,\n",
    "     or deleting an element in a dictionary typically has very efficient time complexity due to the underlying hashing mechanism.\n",
    "\n",
    "         \n",
    "#####Time Complexity Breakdown\n",
    "     # Accessing an Element\n",
    "\n",
    "    When you access an element in a dictionary using its key, Python performs the following steps:\n",
    "\n",
    "    1. Hash Function Calculation:\n",
    "        Python computes the hash value of the key to determine its location in memory.\n",
    "        The hash function maps the key to an index in the internal hash table.\n",
    "\n",
    "    2. Direct Lookup:\n",
    "        Python then looks up the element at the computed index in the hash table.\n",
    "        This allows Python to access the element directly without iterating through the dictionary.\n",
    "\n",
    "    # Time Complexity\n",
    "\n",
    "    1. Average Case: O(1) (Constant time)\n",
    "        In most cases, accessing an element in a Python dictionary takes approximately O(1).\n",
    "        This means that the lookup operation is extremely fast.\n",
    "\n",
    "    2. Worst Case: O(n) (Linear time, rare)\n",
    "        In very rare cases, accessing an element might degrade to O(n) due to hash collisions.\n",
    "        When multiple keys have the same hash value, Python uses chaining or open addressing to resolve these collisions, which may involve scanning multiple elements.\n",
    "\n",
    "    However, with a good hash function and low collision rates, the worst-case scenario is exceptionally uncommon.\n"
   ]
  },
  {
   "cell_type": "code",
   "execution_count": 115,
   "id": "cd55acfd-941d-4243-8d15-2b7ee62c9f9d",
   "metadata": {},
   "outputs": [
    {
     "name": "stdout",
     "output_type": "stream",
     "text": [
      "Time to access an element: 0.0 seconds\n"
     ]
    }
   ],
   "source": [
    "#Example:\n",
    "\n",
    "import time\n",
    "\n",
    "# Create a large dictionary\n",
    "n = 1000000\n",
    "my_dict = {str(i): i for i in range(n)}\n",
    "\n",
    "# Access an element\n",
    "start_time = time.time()\n",
    "_ = my_dict['500000']\n",
    "end_time = time.time()\n",
    "\n",
    "print(f\"Time to access an element: {end_time - start_time} seconds\")\n"
   ]
  },
  {
   "cell_type": "code",
   "execution_count": null,
   "id": "76a1854f-ca87-4fbe-8f41-8d62b8b99c82",
   "metadata": {},
   "outputs": [],
   "source": [
    "Q18. In what situations are lists preferred over dictionaries?\n",
    "\n",
    "Ans- While dictionaries are a powerful data structure for key-value pair storage, there are situations where lists are a more suitable choice.\n",
    "     Lists are an ordered collection of elements and excel in scenarios where index-based access, iteration, and simplicity are important.\n",
    "\n",
    "    ### When to Use a List Instead of a Dictionary\n",
    "    1. When You Need Ordered Collections\n",
    "\n",
    "    Lists maintain the order of elements, whereas dictionaries (prior to Python 3.7) did not guarantee order.\n",
    "    In scenarios where the order of items matters, lists are more appropriate.\n",
    "\n",
    "   Example Use Case:\n",
    "\n",
    "    A list of students in a classroom, where their order signifies roll-call order.\n"
   ]
  },
  {
   "cell_type": "code",
   "execution_count": 117,
   "id": "9d0b2ba5-953a-4555-aaa5-5eaaedd96f34",
   "metadata": {},
   "outputs": [
    {
     "name": "stdout",
     "output_type": "stream",
     "text": [
      "Charlie\n"
     ]
    }
   ],
   "source": [
    "\n",
    "students = ['Alice', 'Bob', 'Charlie', 'David']\n",
    "print(students[2])  # Output: Charlie\n"
   ]
  },
  {
   "cell_type": "code",
   "execution_count": null,
   "id": "da0f0e86-72e6-402e-8abf-4e6a012fba29",
   "metadata": {},
   "outputs": [],
   "source": [
    "### When You Need to Iterate Over Items Sequentially\n",
    "\n",
    "    Lists are ideal for situations where iteration through elements in order is needed.\n",
    "\n",
    "Common Scenarios:\n",
    "\n",
    "    Iterating through a list of numbers, names, or strings.\n",
    "    Performing operations like sorting, filtering, or applying functions to each element.\n",
    "\n"
   ]
  },
  {
   "cell_type": "code",
   "execution_count": 119,
   "id": "19bd4ca8-b973-4757-a526-ef5be0402a25",
   "metadata": {},
   "outputs": [
    {
     "name": "stdout",
     "output_type": "stream",
     "text": [
      "Sum: 20\n"
     ]
    }
   ],
   "source": [
    "# Sum of numbers in a list\n",
    "numbers = [2, 4, 6, 8]\n",
    "total = sum(numbers)\n",
    "print(f\"Sum: {total}\") "
   ]
  },
  {
   "cell_type": "code",
   "execution_count": null,
   "id": "0b2ed518-b283-4753-bcc6-35f0999ab4d0",
   "metadata": {},
   "outputs": [],
   "source": [
    "#### When You Need Index-Based Access\n",
    "\n",
    "    Lists allow access to elements by their position (index).\n",
    "    This is ideal when you want specific items based on their position in the sequence.\n",
    "\n"
   ]
  },
  {
   "cell_type": "code",
   "execution_count": 121,
   "id": "831fcfec-1c79-4fb0-a570-f2f58912ca63",
   "metadata": {},
   "outputs": [
    {
     "name": "stdout",
     "output_type": "stream",
     "text": [
      "blue\n"
     ]
    }
   ],
   "source": [
    "#Example:\n",
    "\n",
    "colors = ['red', 'blue', 'green', 'yellow']\n",
    "print(colors[1]) "
   ]
  },
  {
   "cell_type": "code",
   "execution_count": 123,
   "id": "6f0d77fb-72f8-4c63-976f-bc59c094925a",
   "metadata": {},
   "outputs": [
    {
     "name": "stdout",
     "output_type": "stream",
     "text": [
      "Average Score: 86.8\n"
     ]
    }
   ],
   "source": [
    "#example:\n",
    "\n",
    "#For storing a list of scores, temperatures, or ages:\n",
    "\n",
    "# List of scores\n",
    "scores = [85, 92, 74, 88, 95]\n",
    "\n",
    "# Calculate average score\n",
    "average = sum(scores) / len(scores)\n",
    "print(f\"Average Score: {average}\")\n"
   ]
  },
  {
   "cell_type": "code",
   "execution_count": null,
   "id": "a014c07b-ba89-479d-a22a-de7dcc012a02",
   "metadata": {},
   "outputs": [],
   "source": [
    "Q19. Why are dictionaries considered unordered, and how does that affect data retrieval?\n",
    "\n",
    "Ans- In Python, dictionaries are considered unordered collections of key-value pairs (prior to Python 3.7). \n",
    "     Although Python 3.7+ maintains the insertion order, dictionaries were originally designed as unordered structures. \n",
    "     Let’s explore why dictionaries are unordered and how that impacts data retrieval.\n"
   ]
  },
  {
   "cell_type": "code",
   "execution_count": 127,
   "id": "214981b4-8eab-4c84-a0e5-284d9b830110",
   "metadata": {},
   "outputs": [
    {
     "name": "stdout",
     "output_type": "stream",
     "text": [
      "first: 1\n",
      "second: 2\n",
      "third: 3\n"
     ]
    }
   ],
   "source": [
    "#example;\n",
    "\n",
    "# Python 3.7+\n",
    "my_dict = {\n",
    "    'first': 1,\n",
    "    'second': 2,\n",
    "    'third': 3\n",
    "}\n",
    "\n",
    "# Iterating through the dictionary\n",
    "for key, value in my_dict.items():\n",
    "    print(f\"{key}: {value}\")\n"
   ]
  },
  {
   "cell_type": "code",
   "execution_count": null,
   "id": "a10f0019-36ca-470b-a573-ccfc60aa22b6",
   "metadata": {},
   "outputs": [],
   "source": [
    "Q20. Explain the difference between a list and a dictionary in terms of data retrieval.\n",
    "\n",
    "Ans-  How Data Retrieval Works in Lists:\n",
    "\n",
    "    Lists are ordered collections.\n",
    "    Each element in the list is stored in a specific position, starting from index 0.\n",
    "    Retrieval is done by accessing the desired index.\n"
   ]
  },
  {
   "cell_type": "code",
   "execution_count": 129,
   "id": "481d932b-21e5-4a2e-a9e2-1aa4757d553f",
   "metadata": {},
   "outputs": [
    {
     "name": "stdout",
     "output_type": "stream",
     "text": [
      "green\n"
     ]
    }
   ],
   "source": [
    "#example:\n",
    "\n",
    "# Define a list\n",
    "colors = ['red', 'blue', 'green', 'yellow']\n",
    "\n",
    "# Retrieve the value at index 2\n",
    "print(colors[2])"
   ]
  },
  {
   "cell_type": "code",
   "execution_count": null,
   "id": "b0f343c4-e323-4355-8ca2-233561e0c67a",
   "metadata": {},
   "outputs": [],
   "source": [
    "How Data Retrieval Works in Dictionaries:\n",
    "\n",
    "    Python dictionaries are implemented as hash tables.\n",
    "    The key is hashed, and the value is stored in a memory address computed by the hash function.\n",
    "    This enables very fast access.\n"
   ]
  },
  {
   "cell_type": "code",
   "execution_count": 131,
   "id": "5feb157d-50f2-42dd-8072-be850f709c0f",
   "metadata": {},
   "outputs": [
    {
     "name": "stdout",
     "output_type": "stream",
     "text": [
      "25\n"
     ]
    }
   ],
   "source": [
    "#Example:\n",
    "\n",
    "# Define a dictionary\n",
    "person = {\n",
    "    'name': 'Alice',\n",
    "    'age': 25,\n",
    "    'city': 'New York'\n",
    "}\n",
    "\n",
    "# Retrieve data by key\n",
    "print(person['age'])"
   ]
  },
  {
   "cell_type": "code",
   "execution_count": null,
   "id": "ca451ffb-362d-4b07-ab7b-200406a89c5f",
   "metadata": {},
   "outputs": [],
   "source": [
    "###########Practical Questions##############################"
   ]
  },
  {
   "cell_type": "code",
   "execution_count": null,
   "id": "11fe84b5-98b6-4161-a29d-78e070b12c06",
   "metadata": {},
   "outputs": [],
   "source": [
    "Q1. Write a code to create a string with your name and print it?"
   ]
  },
  {
   "cell_type": "code",
   "execution_count": 133,
   "id": "9691c516-29fa-44f5-9a60-ff1100f22815",
   "metadata": {},
   "outputs": [
    {
     "name": "stdout",
     "output_type": "stream",
     "text": [
      "My name is: Jatin\n"
     ]
    }
   ],
   "source": [
    "#Create a string with my name\n",
    "name = \"Jatin\"\n",
    "\n",
    "  # Print the string\n",
    "print(\"My name is:\", name)"
   ]
  },
  {
   "cell_type": "code",
   "execution_count": null,
   "id": "64c0b241-8286-4c9d-92ce-8a61f27dbd8e",
   "metadata": {},
   "outputs": [],
   "source": [
    "Q2.  Write a code to find the length of the string \"Hello World\"?"
   ]
  },
  {
   "cell_type": "code",
   "execution_count": 135,
   "id": "e64f2d2a-5879-4c5b-ba09-6d745a2a02bb",
   "metadata": {},
   "outputs": [
    {
     "name": "stdout",
     "output_type": "stream",
     "text": [
      "The length of the string 'Hello World' is: 11\n"
     ]
    }
   ],
   "source": [
    "#Define the string\n",
    "string = \"Hello World\"\n",
    "\n",
    "# Find and print the length of the string\n",
    "length_of_string = len(string)\n",
    "print(\"The length of the string 'Hello World' is:\", length_of_string)"
   ]
  },
  {
   "cell_type": "code",
   "execution_count": null,
   "id": "4cb0c094-4446-454a-a54c-2cf92ffb42cb",
   "metadata": {},
   "outputs": [],
   "source": [
    "Q3. Write a code to slice the first 3 characters from the string \"Python Programming\"?"
   ]
  },
  {
   "cell_type": "code",
   "execution_count": 137,
   "id": "1f5b73d9-c4bd-487f-81c3-4e24a4a7a892",
   "metadata": {},
   "outputs": [
    {
     "name": "stdout",
     "output_type": "stream",
     "text": [
      "The first 3 characters are: Pyt\n"
     ]
    }
   ],
   "source": [
    " # Define the string\n",
    "text = \"Python Programming\"\n",
    "\n",
    "# Slice the first 3 characters\n",
    "sliced_text = text[:3]\n",
    "\n",
    "# Print the result\n",
    "print(\"The first 3 characters are:\", sliced_text)"
   ]
  },
  {
   "cell_type": "code",
   "execution_count": null,
   "id": "aa93c3f8-6a46-43b6-99b8-4b2f5486da82",
   "metadata": {},
   "outputs": [],
   "source": [
    "Q4. Write a code to convert the string \"hello\" to uppercase?"
   ]
  },
  {
   "cell_type": "code",
   "execution_count": 139,
   "id": "76fce4a0-5048-4c82-bff4-3da235389da5",
   "metadata": {},
   "outputs": [
    {
     "name": "stdout",
     "output_type": "stream",
     "text": [
      "The string in uppercase is: HELLO\n"
     ]
    }
   ],
   "source": [
    " # Define the string\n",
    "text = \"hello\"\n",
    "\n",
    "# Convert the string to uppercase\n",
    "uppercase_text = text.upper()\n",
    "\n",
    "# Print the result\n",
    "print(\"The string in uppercase is:\", uppercase_text)\n"
   ]
  },
  {
   "cell_type": "code",
   "execution_count": null,
   "id": "986b4c38-2afc-473a-80af-65b277923337",
   "metadata": {},
   "outputs": [],
   "source": [
    "Q5.  Write a code to replace the word \"apple\" with \"orange\" in the string \"I like apple\"?"
   ]
  },
  {
   "cell_type": "code",
   "execution_count": 141,
   "id": "e58e0ba1-5711-4b12-92c8-cb00b5f18e3a",
   "metadata": {},
   "outputs": [
    {
     "name": "stdout",
     "output_type": "stream",
     "text": [
      "The new string is: I like orange\n"
     ]
    }
   ],
   "source": [
    "# Define the original string\n",
    "text = \"I like apple\"\n",
    "\n",
    "# Replace the word \"apple\" with \"orange\"\n",
    "new_text = text.replace(\"apple\", \"orange\")\n",
    "\n",
    "# Print the result\n",
    "print(\"The new string is:\", new_text)"
   ]
  },
  {
   "cell_type": "code",
   "execution_count": null,
   "id": "151983a0-f970-418c-94aa-3b53f399a199",
   "metadata": {},
   "outputs": [],
   "source": [
    "Q6. Write a code to create a list with numbers 1 to 5 and print it?"
   ]
  },
  {
   "cell_type": "code",
   "execution_count": 143,
   "id": "105d3e03-5071-491d-9032-04ff42d735fd",
   "metadata": {},
   "outputs": [
    {
     "name": "stdout",
     "output_type": "stream",
     "text": [
      "The list of numbers is: [1, 2, 3, 4, 5]\n"
     ]
    }
   ],
   "source": [
    " # Create a list with numbers 1 to 5\n",
    "numbers = [1, 2, 3, 4, 5]\n",
    "\n",
    "# Print the list\n",
    "print(\"The list of numbers is:\", numbers)\n"
   ]
  },
  {
   "cell_type": "code",
   "execution_count": null,
   "id": "27069a38-0368-4adc-996c-f17a5bede428",
   "metadata": {},
   "outputs": [],
   "source": [
    "Q7.  Write a code to append the number 10 to the list [1, 2, 3, 4]?"
   ]
  },
  {
   "cell_type": "code",
   "execution_count": 145,
   "id": "e1103f3e-270f-489e-a3f8-8440b74e7f9e",
   "metadata": {},
   "outputs": [
    {
     "name": "stdout",
     "output_type": "stream",
     "text": [
      "The updated list is: [1, 2, 3, 4, 10]\n"
     ]
    }
   ],
   "source": [
    "# Define the list\n",
    "numbers = [1, 2, 3, 4]\n",
    "\n",
    "# Append the number 10 to the list\n",
    "numbers.append(10)\n",
    "\n",
    "# Print the updated list\n",
    "print(\"The updated list is:\", numbers)\n"
   ]
  },
  {
   "cell_type": "code",
   "execution_count": null,
   "id": "43a20c9e-449f-4cd8-94bf-e28a710028a7",
   "metadata": {},
   "outputs": [],
   "source": [
    "Q8.  Write a code to remove the number 3 from the list [1, 2, 3, 4, 5]."
   ]
  },
  {
   "cell_type": "code",
   "execution_count": 147,
   "id": "631ce087-29f5-489d-b1a7-ebf987bc20e6",
   "metadata": {},
   "outputs": [
    {
     "name": "stdout",
     "output_type": "stream",
     "text": [
      "The updated list is: [1, 2, 4, 5]\n"
     ]
    }
   ],
   "source": [
    " # Define the list\n",
    "numbers = [1, 2, 3, 4, 5]\n",
    "\n",
    "# Remove the number 3 from the list\n",
    "numbers.remove(3)\n",
    "\n",
    "# Print the updated list\n",
    "print(\"The updated list is:\", numbers)\n"
   ]
  },
  {
   "cell_type": "code",
   "execution_count": null,
   "id": "65172e59-268b-4c45-ad12-3575b1e93634",
   "metadata": {},
   "outputs": [],
   "source": [
    "Q9.  Write a code to access the second element in the list ['a', 'b', 'c', 'd']."
   ]
  },
  {
   "cell_type": "code",
   "execution_count": 149,
   "id": "9d22df98-278a-4d2f-af59-fe190a196959",
   "metadata": {},
   "outputs": [
    {
     "name": "stdout",
     "output_type": "stream",
     "text": [
      "The second element in the list is: b\n"
     ]
    }
   ],
   "source": [
    "# Define the list\n",
    "letters = ['a', 'b', 'c', 'd']\n",
    "\n",
    "# Access the second element (index 1)\n",
    "second_element = letters[1]\n",
    "\n",
    "# Print the second element\n",
    "print(\"The second element in the list is:\", second_element)\n"
   ]
  },
  {
   "cell_type": "code",
   "execution_count": null,
   "id": "3624a2ab-2797-445c-83d7-5957841d737e",
   "metadata": {},
   "outputs": [],
   "source": [
    "Q10.  Write a code to reverse the list [10, 20, 30, 40, 50]."
   ]
  },
  {
   "cell_type": "code",
   "execution_count": 151,
   "id": "a930f2af-6b4e-419e-a1ce-b0d125cc73ea",
   "metadata": {},
   "outputs": [
    {
     "name": "stdout",
     "output_type": "stream",
     "text": [
      "The reversed list is: [50, 40, 30, 20, 10]\n"
     ]
    }
   ],
   "source": [
    "#Method - <1> Using the Reverse Method\n",
    "  # Define the list\n",
    "numbers = [10, 20, 30, 40, 50]\n",
    "\n",
    "# Reverse the list in place\n",
    "numbers.reverse()\n",
    "\n",
    "# Print the updated list\n",
    "print(\"The reversed list is:\", numbers)"
   ]
  },
  {
   "cell_type": "code",
   "execution_count": 153,
   "id": "4d854050-0984-48bc-92cd-8fb85461a591",
   "metadata": {},
   "outputs": [
    {
     "name": "stdout",
     "output_type": "stream",
     "text": [
      "The reversed list is: [50, 40, 30, 20, 10]\n"
     ]
    }
   ],
   "source": [
    "#Method - <2> Using Slicing Method\n",
    "  # Define the list\n",
    "numbers = [10, 20, 30, 40, 50]\n",
    "\n",
    "# Reverse the list using slicing\n",
    "reversed_numbers = numbers[::-1]\n",
    "\n",
    "# Print the reversed list\n",
    "print(\"The reversed list is:\", reversed_numbers)\n"
   ]
  },
  {
   "cell_type": "code",
   "execution_count": 155,
   "id": "48009aa1-084c-445b-b637-039f738479b8",
   "metadata": {},
   "outputs": [
    {
     "name": "stdout",
     "output_type": "stream",
     "text": [
      "The reversed list is: [50, 40, 30, 20, 10]\n"
     ]
    }
   ],
   "source": [
    " #Method - <3> Using Reversed Function and List Constructor\n",
    "  # Define the list\n",
    "numbers = [10, 20, 30, 40, 50]\n",
    "\n",
    "# Reverse the list using the reversed() function\n",
    "reversed_numbers = list(reversed(numbers))\n",
    "\n",
    "# Print the reversed list\n",
    "print(\"The reversed list is:\", reversed_numbers)\n"
   ]
  },
  {
   "cell_type": "code",
   "execution_count": null,
   "id": "7bb23b4f-bbe0-462e-bef5-0dc44ba5d69b",
   "metadata": {},
   "outputs": [],
   "source": [
    "Q11. Write a code to create a tuple with the elements 10, 20, 30 and print it."
   ]
  },
  {
   "cell_type": "code",
   "execution_count": 157,
   "id": "af047f58-8305-45c1-8b4c-c1830b582480",
   "metadata": {},
   "outputs": [
    {
     "name": "stdout",
     "output_type": "stream",
     "text": [
      "The tuple is: (10, 20, 30)\n"
     ]
    }
   ],
   "source": [
    "# Creating a tuple with elements 10, 20, and 30\n",
    "my_tuple = (10, 20, 30)\n",
    "\n",
    "# Printing the tuple\n",
    "print(\"The tuple is:\", my_tuple)\n"
   ]
  },
  {
   "cell_type": "code",
   "execution_count": null,
   "id": "c3c8e149-1463-4a96-aaa5-361689bf9880",
   "metadata": {},
   "outputs": [],
   "source": [
    "Q12. Write a code to access the first element of the tuple ('apple', 'banana', 'cherry')."
   ]
  },
  {
   "cell_type": "code",
   "execution_count": 159,
   "id": "86750963-c586-462d-b935-429a2202bd92",
   "metadata": {},
   "outputs": [
    {
     "name": "stdout",
     "output_type": "stream",
     "text": [
      "The first element is: apple\n"
     ]
    }
   ],
   "source": [
    "# Creating the tuple\n",
    "fruits = ('apple', 'banana', 'cherry')\n",
    "\n",
    "# Accessing the first element of the tuple\n",
    "first_fruit = fruits[0]\n",
    "\n",
    "# Printing the first element\n",
    "print(\"The first element is:\", first_fruit)"
   ]
  },
  {
   "cell_type": "code",
   "execution_count": null,
   "id": "f8945cd9-efa2-49f2-b4fd-628eeb699cbd",
   "metadata": {},
   "outputs": [],
   "source": [
    "Q13.. Write a code to count how many times the number 2 appears in the tuple (1, 2, 3, 2, 4, 2)."
   ]
  },
  {
   "cell_type": "code",
   "execution_count": 161,
   "id": "fba153b0-7b57-47f3-be49-bebd0d4ac860",
   "metadata": {},
   "outputs": [
    {
     "name": "stdout",
     "output_type": "stream",
     "text": [
      "The number 2 appears 3 times in the tuple.\n"
     ]
    }
   ],
   "source": [
    "# Creating the tuple\n",
    "numbers = (1, 2, 3, 2, 4, 2)\n",
    "\n",
    "# Counting the number of times 2 appears in the tuple\n",
    "count_of_2 = numbers.count(2)\n",
    "\n",
    "# Printing the count\n",
    "print(\"The number 2 appears\", count_of_2, \"times in the tuple.\")\n"
   ]
  },
  {
   "cell_type": "code",
   "execution_count": null,
   "id": "7ac7ed41-d6b5-424b-8776-3fb3d64338f3",
   "metadata": {},
   "outputs": [],
   "source": [
    "Q14.  Write a code to find the index of the element \"cat\" in the tuple ('dog', 'cat', 'rabbit')."
   ]
  },
  {
   "cell_type": "code",
   "execution_count": 163,
   "id": "c53d6f87-9293-4393-ba2a-9e56cc681a06",
   "metadata": {},
   "outputs": [
    {
     "name": "stdout",
     "output_type": "stream",
     "text": [
      "The index of 'cat' in the tuple is: 1\n"
     ]
    }
   ],
   "source": [
    " # Creating the tuple\n",
    "animals = ('dog', 'cat', 'rabbit')\n",
    "\n",
    "# Finding the index of the element \"cat\"\n",
    "index_of_cat = animals.index('cat')\n",
    "\n",
    "# Printing the index\n",
    "print(\"The index of 'cat' in the tuple is:\", index_of_cat)"
   ]
  },
  {
   "cell_type": "code",
   "execution_count": null,
   "id": "a1ea5177-e53e-411c-af77-322b38426cf6",
   "metadata": {},
   "outputs": [],
   "source": [
    "Q15. . Write a code to check if the element \"banana\" is in the tuple ('apple', 'orange', 'banana')."
   ]
  },
  {
   "cell_type": "code",
   "execution_count": 165,
   "id": "facfdb09-1a6c-410b-8e75-f7f37713da47",
   "metadata": {},
   "outputs": [
    {
     "name": "stdout",
     "output_type": "stream",
     "text": [
      "The element 'banana' is present in the tuple.\n"
     ]
    }
   ],
   "source": [
    " # Creating the tuple\n",
    "fruits = ('apple', 'orange', 'banana')\n",
    "\n",
    "# Checking if \"banana\" is in the tuple\n",
    "if 'banana' in fruits:\n",
    "    print(\"The element 'banana' is present in the tuple.\")\n",
    "else:\n",
    "    print(\"The element 'banana' is not present in the tuple.\")\n"
   ]
  },
  {
   "cell_type": "code",
   "execution_count": null,
   "id": "079897ef-0fbc-45ee-8c7e-79eacbad59eb",
   "metadata": {},
   "outputs": [],
   "source": [
    "Q16.  Write a code to create a set with the elements 1, 2, 3, 4, 5 and print it."
   ]
  },
  {
   "cell_type": "code",
   "execution_count": 167,
   "id": "3fd1cf0d-6d17-4c1c-84d3-43fdace38bbc",
   "metadata": {},
   "outputs": [
    {
     "name": "stdout",
     "output_type": "stream",
     "text": [
      "The set is: {1, 2, 3, 4, 5}\n"
     ]
    }
   ],
   "source": [
    "# Creating a set with elements 1, 2, 3, 4, 5\n",
    "my_set = {1, 2, 3, 4, 5}\n",
    "\n",
    "# Printing the set\n",
    "print(\"The set is:\", my_set)\n"
   ]
  },
  {
   "cell_type": "code",
   "execution_count": null,
   "id": "07d008cc-519d-4345-a8cd-e5f6a13663d8",
   "metadata": {},
   "outputs": [],
   "source": [
    "Q17. Write a code to add the element 6 to the set {1, 2, 3, 4}."
   ]
  },
  {
   "cell_type": "code",
   "execution_count": 169,
   "id": "1d14344a-99fe-4ff0-a14a-a89d93e016fd",
   "metadata": {},
   "outputs": [
    {
     "name": "stdout",
     "output_type": "stream",
     "text": [
      "The updated set is: {1, 2, 3, 4, 6}\n"
     ]
    }
   ],
   "source": [
    "# Creating a set with elements 1, 2, 3, 4\n",
    "my_set = {1, 2, 3, 4}\n",
    "\n",
    "# Adding the element 6 to the set\n",
    "my_set.add(6)\n",
    "\n",
    "# Printing the updated set\n",
    "print(\"The updated set is:\", my_set)\n"
   ]
  },
  {
   "cell_type": "code",
   "execution_count": null,
   "id": "b052c16a-014f-41aa-b58a-275c110c0f05",
   "metadata": {},
   "outputs": [],
   "source": [
    "Q18. . Write a code to create a tuple with the elements 10, 20, 30 and print it."
   ]
  },
  {
   "cell_type": "code",
   "execution_count": 171,
   "id": "f44140a5-ba75-434d-b6eb-da8b578a79fb",
   "metadata": {},
   "outputs": [
    {
     "name": "stdout",
     "output_type": "stream",
     "text": [
      "The tuple is: (10, 20, 30)\n"
     ]
    }
   ],
   "source": [
    "# Creating a tuple with elements 10, 20, and 30\n",
    "my_tuple = (10, 20, 30)\n",
    "\n",
    "# Printing the tuple\n",
    "print(\"The tuple is:\", my_tuple)"
   ]
  },
  {
   "cell_type": "code",
   "execution_count": null,
   "id": "11345793-3f11-4070-be94-7d5baccd80f6",
   "metadata": {},
   "outputs": [],
   "source": [
    "Q19.  Write a code to access the first element of the tuple ('apple', 'banana', 'cherry')."
   ]
  },
  {
   "cell_type": "code",
   "execution_count": 173,
   "id": "dfc418b0-df41-44f4-8e50-014d75f647a6",
   "metadata": {},
   "outputs": [
    {
     "name": "stdout",
     "output_type": "stream",
     "text": [
      "The first element is: apple\n"
     ]
    }
   ],
   "source": [
    "# Creating the tuple\n",
    "fruits = ('apple', 'banana', 'cherry')\n",
    "\n",
    "# Accessing the first element of the tuple\n",
    "first_fruit = fruits[0]\n",
    "\n",
    "# Printing the first element\n",
    "print(\"The first element is:\", first_fruit)"
   ]
  },
  {
   "cell_type": "code",
   "execution_count": null,
   "id": "27b33232-79fc-48f9-a0c8-ca094f5a52d3",
   "metadata": {},
   "outputs": [],
   "source": [
    "Q20. Write a code to count how many times the number 2 appears in the tuple (1, 2, 3, 2, 4, 2)"
   ]
  },
  {
   "cell_type": "code",
   "execution_count": 175,
   "id": "362fac6e-e92b-42d9-8d2a-f95d0c2b48f8",
   "metadata": {},
   "outputs": [
    {
     "name": "stdout",
     "output_type": "stream",
     "text": [
      "The number 2 appears 3 times in the tuple.\n"
     ]
    }
   ],
   "source": [
    " # Creating the tuple\n",
    "numbers = (1, 2, 3, 2, 4, 2)\n",
    "\n",
    "# Counting the number of times 2 appears in the tuple\n",
    "count_of_2 = numbers.count(2)\n",
    "\n",
    "# Printing the count\n",
    "print(\"The number 2 appears\", count_of_2, \"times in the tuple.\")"
   ]
  },
  {
   "cell_type": "code",
   "execution_count": null,
   "id": "b0c29d70-7d4b-4d92-920a-13cac88d13dc",
   "metadata": {},
   "outputs": [],
   "source": [
    "Q21.  Write a code to find the index of the element \"cat\" in the tuple ('dog', 'cat', 'rabbit')."
   ]
  },
  {
   "cell_type": "code",
   "execution_count": 177,
   "id": "2c49877b-2811-41c1-86f6-bff7b3759373",
   "metadata": {},
   "outputs": [
    {
     "name": "stdout",
     "output_type": "stream",
     "text": [
      "The index of 'cat' in the tuple is: 1\n"
     ]
    }
   ],
   "source": [
    " # Creating the tuple\n",
    "animals = ('dog', 'cat', 'rabbit')\n",
    "\n",
    "# Finding the index of the element \"cat\"\n",
    "index_of_cat = animals.index('cat')\n",
    "\n",
    "# Printing the index\n",
    "print(\"The index of 'cat' in the tuple is:\", index_of_cat)\n",
    "\n",
    "     "
   ]
  },
  {
   "cell_type": "code",
   "execution_count": null,
   "id": "bd41bc76-55ce-4ced-a408-b39d5640aa36",
   "metadata": {},
   "outputs": [],
   "source": [
    "Q22.  Write a code to check if the element \"banana\" is in the tuple ('apple', 'orange', 'banana')"
   ]
  },
  {
   "cell_type": "code",
   "execution_count": 179,
   "id": "8a41632c-ee1f-4e29-8ee9-93d867e54708",
   "metadata": {},
   "outputs": [
    {
     "name": "stdout",
     "output_type": "stream",
     "text": [
      "The element 'banana' is present in the tuple.\n"
     ]
    }
   ],
   "source": [
    " # Creating the tuple\n",
    "fruits = ('apple', 'orange', 'banana')\n",
    "\n",
    "# Checking if \"banana\" is in the tuple\n",
    "if 'banana' in fruits:\n",
    "    print(\"The element 'banana' is present in the tuple.\")\n",
    "else:\n",
    "    print(\"The element 'banana' is not present in the tuple.\")\n"
   ]
  },
  {
   "cell_type": "code",
   "execution_count": null,
   "id": "b3fe7da6-e541-496e-ac19-6389b099d80c",
   "metadata": {},
   "outputs": [],
   "source": [
    "Q23. Write a code to create a set with the elements 1, 2, 3, 4, 5 and print it"
   ]
  },
  {
   "cell_type": "code",
   "execution_count": 181,
   "id": "f29fe504-36ef-48f6-a385-1f712dc339dc",
   "metadata": {},
   "outputs": [
    {
     "name": "stdout",
     "output_type": "stream",
     "text": [
      "The set is: {1, 2, 3, 4, 5}\n"
     ]
    }
   ],
   "source": [
    "# Creating a set with elements 1, 2, 3, 4, 5\n",
    "my_set = {1, 2, 3, 4, 5}\n",
    "\n",
    "# Printing the set\n",
    "print(\"The set is:\", my_set)"
   ]
  },
  {
   "cell_type": "code",
   "execution_count": null,
   "id": "1955312e-c3f5-431a-bdda-12d5eb48d59b",
   "metadata": {},
   "outputs": [],
   "source": [
    "Q24. Write a code to add the element 6 to the set {1, 2, 3, 4}."
   ]
  },
  {
   "cell_type": "code",
   "execution_count": 183,
   "id": "0d95fffc-389e-45a7-a75f-907e2a25b256",
   "metadata": {},
   "outputs": [
    {
     "name": "stdout",
     "output_type": "stream",
     "text": [
      "The updated set is: {1, 2, 3, 4, 6}\n"
     ]
    }
   ],
   "source": [
    " # Creating a set with elements 1, 2, 3, 4\n",
    "my_set = {1, 2, 3, 4}\n",
    "\n",
    "# Adding the element 6 to the set\n",
    "my_set.add(6)\n",
    "\n",
    "# Printing the updated set\n",
    "print(\"The updated set is:\", my_set)"
   ]
  },
  {
   "cell_type": "code",
   "execution_count": null,
   "id": "72acdd97-ef6f-4441-9e97-89ffbec588ac",
   "metadata": {},
   "outputs": [],
   "source": []
  }
 ],
 "metadata": {
  "kernelspec": {
   "display_name": "Python 3 (ipykernel)",
   "language": "python",
   "name": "python3"
  },
  "language_info": {
   "codemirror_mode": {
    "name": "ipython",
    "version": 3
   },
   "file_extension": ".py",
   "mimetype": "text/x-python",
   "name": "python",
   "nbconvert_exporter": "python",
   "pygments_lexer": "ipython3",
   "version": "3.12.7"
  }
 },
 "nbformat": 4,
 "nbformat_minor": 5
}
